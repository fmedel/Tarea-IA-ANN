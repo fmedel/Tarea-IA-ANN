{
 "cells": [
  {
   "cell_type": "code",
   "execution_count": 125,
   "metadata": {},
   "outputs": [],
   "source": [
    "# coding: utf-8\n",
    "# Importar libreria para redes neuronal:\n",
    "import neurolab as nl\n",
    "# Cargar datos de entrenamiento:\n",
    "entradas=[\n",
    "    [33,44,16.2580261593,5,10,10,50.1,50,22,12.5],\n",
    "    [35,26,25.1070154578,3,3,12,10.9,30,0,17],\n",
    "    [12,0,12,3,14,13,54.7,30,6,17],\n",
    "    [8,0,8,4.1,4,14,23.06,41,13,20],\n",
    "    [18,40,2.7800237812,4.5,0,9,0.1,45,9,25],\n",
    "    [34,35,20.6825208086,3,6,14,25.3,30,11,17],\n",
    "    [38,69,11.7455410226,4.1,10,2,8.3,41,24,20],\n",
    "    [40,53,19.8335315101,5,2,6,6.1,50,21,23],\n",
    "    [15,10,11.1950059453,4.5,1,12,5.5,45,22,25],\n",
    "    [15,25,5.4875148633,7,13,13,118.4,70,13,15],\n",
    "    [17,67,-8.4934601665,5,1,1,0.6,50,5,23],\n",
    "    [36,49,17.355529132,2.5,10,7,17.6,25,12,27],\n",
    "    [9,69,-17.2544589774,7,10,7,49.1,70,9,15],\n",
    "    [40,81,9.179548157,3,13,13,50.8,30,7,17],\n",
    "    [35,25,25.4875148633,2.5,9,2,4.6,25,5,27],\n",
    "    [24,21,16.0095124851,3,14,14,58.9,30,14,17],\n",
    "    [2,32,-10.175980975,2.5,9,4,9.1,25,20,27],\n",
    "    [23,76,-5.9179548157,4.1,12,1,5.02,41,15,20],\n",
    "    [16,45,-1.1224732461,7,14,1,9.9,70,6,15],\n",
    "    [3,36,-10.6979785969,4.5,12,6,32.5,45,17,25],\n",
    "    [36,65,11.2675386445,4.5,14,7,44.2,45,7,25],\n",
    "    [22,41,6.3995243757,3,0,13,0.1,30,0,17],\n",
    "    [9,44,-7.7419738407,4.5,6,7,19,45,25,25],\n",
    "    [6,81,-24.820451843,4.5,2,0,0.1,45,11,25],\n",
    "    [0,43,-16.3614744352,7,11,12,92.5,70,18,15],\n",
    "    [6,72,-21.3959571938,2.5,11,6,16.6,25,5,27],\n",
    "    [7,82,-24.2009512485,7,1,12,8.5,70,4,15],\n",
    "    [26,25,16.4875148633,5,9,1,4.6,50,20,23],\n",
    "    [39,50,19.9750297265,2.5,2,5,2.6,25,0,27],\n",
    "    [12,71,-15.0154577883,4.1,5,7,14.45,41,9,20],\n",
    "    [25,68,-0.8739595719,2.5,7,8,14.1,25,9,27],\n",
    "    [1,53,-19.1664684899,3,10,0,0.1,30,21,17],\n",
    "    [11,87,-22.1034482759,5,4,13,26.1,50,1,23],\n",
    "    [4,73,-23.7764565993,7,12,8,67.3,70,3,15],\n",
    "    [15,26,5.1070154578,3,10,4,12.1,30,21,17],\n",
    "    [21,37,6.9215219976,4.1,4,13,21.42,41,1,20],\n",
    "    [35,69,8.7455410226,4.5,10,13,58.6,45,9,25],\n",
    "    [36,7,33.3365041617,4.1,9,9,33.31,41,23,20],\n",
    "    [35,26,25.1070154578,7,13,12,109.3,70,0,15],\n",
    "    [33,27,22.7265160523,5,5,9,22.6,50,20,23],\n",
    "    [4,67,-21.4934601665,4.5,8,7,25.3,45,18,25],\n",
    "    [6,88,-27.4839476813,2.5,9,2,4.6,25,11,27],\n",
    "    [36,47,18.1165279429,7,7,8,39.3,70,12,15],\n",
    "    [8,82,-23.2009512485,7,3,4,8.5,70,20,15],\n",
    "    [40,53,19.8335315101,3,7,5,10.6,30,0,17],\n",
    "    [23,65,-1.7324613555,2.5,2,6,3.1,25,4,27],\n",
    "    [34,47,16.1165279429,4.5,4,10,18.1,45,21,25],\n",
    "    [4,68,-21.8739595719,4.5,8,13,46.9,45,23,25],\n",
    "    [21,74,-7.1569560048,4.5,7,6,19,45,11,25]\n",
    "]\n",
    "salidas =[[0],    [1],    [0],    [1],    [1],    [1],    [0],    [1],    [1],\n",
    "    [0],    [1],    [1],    [1],    [0],    [1],    [0],    [1],\n",
    "    [1],    [1],    [1],    [1],    [1],    [0],    [1],    [0],\n",
    "    [1],    [1],    [1],    [1],    [1],    [1],    [0],    [1],\n",
    "    [1],    [0],    [1],    [0],    [0],    [0],    [1],    [1],\n",
    "    [1],    [1],    [0],    [1],    [1],    [1],    [0],    [1]\n",
    "]"
   ]
  },
  {
   "cell_type": "code",
   "execution_count": 126,
   "metadata": {},
   "outputs": [
    {
     "name": "stdout",
     "output_type": "stream",
     "text": [
      "Numero de capas: 2\n",
      "Numero de entradas: 10\n",
      "Numero de salidas: 1\n"
     ]
    }
   ],
   "source": [
    "# importar pandas:\n",
    "import pandas as pd\n",
    "# cargar datos extras para la red neuronal:\n",
    "f = open('./datos.csv','r')\n",
    "data = pd.read_csv(f,sep=\"\\t\")\n",
    "dim1=[data['T° Ambiental (°C) BRUTO'].min(),data['T° Ambiental (°C) BRUTO'].max()]\n",
    "dim2=[data['Velocidad del viento (KM/H)'].min(),data['Velocidad del viento (KM/H)'].max()]\n",
    "dim3=[data['T° Ambiental (°C)'].min(),data['T° Ambiental (°C)'].max()]\n",
    "dim4=[data['Valor de tipo de suelo'].min(),data['Valor de tipo de suelo'].max()]\n",
    "dim5=[data['PH Agua'].min(),data['PH Agua'].max()]\n",
    "dim6=[data['PH Suelo'].min(),data['PH Suelo'].max()]\n",
    "dim7=[data['Humedad Suelo (%)'].min(),data['Humedad Suelo (%)'].max()]\n",
    "dim8=[data['Humedad Suelo Deseada (%)'].min(),data['Humedad Suelo Deseada (%)'].max()]\n",
    "dim9=[data['T° Suelo (°C)'].min(),data['T° Suelo (°C)'].max()]\n",
    "dim10=[data['T° Suelo Deseada (°C)'].min(),data['T° Suelo Deseada (°C)'].max()]\n",
    "# crear percetron:\n",
    "net= nl.net.newff([dim1,dim2,dim3,dim4,dim5,dim6,dim7,dim8,dim9,dim10],[3,1])\n",
    "\n",
    "print(\"Numero de capas: %d\"%len(net.layers))\n",
    "print(\"Numero de entradas: %d\"%(net.ci))\n",
    "print(\"Numero de salidas: %d\"%(net.co))"
   ]
  },
  {
   "cell_type": "code",
   "execution_count": 127,
   "metadata": {
    "scrolled": true
   },
   "outputs": [
    {
     "name": "stdout",
     "output_type": "stream",
     "text": [
      "Epoch: 10; Error: 2.91860038483;\n",
      "Epoch: 20; Error: 2.55041056209;\n",
      "Epoch: 30; Error: 2.55000215581;\n",
      "Epoch: 40; Error: 2.5500008502;\n",
      "Epoch: 50; Error: 2.55000024341;\n",
      "Epoch: 60; Error: 2.55000000097;\n"
     ]
    }
   ],
   "source": [
    "#entrenar la red neuronal:\n",
    "error = net.train(entradas,salidas,epochs=200,show=10,goal=0.01)"
   ]
  },
  {
   "cell_type": "code",
   "execution_count": 128,
   "metadata": {},
   "outputs": [
    {
     "data": {
      "text/plain": [
       "Text(0,0.5,'Error')"
      ]
     },
     "execution_count": 128,
     "metadata": {},
     "output_type": "execute_result"
    },
    {
     "data": {
      "image/png": "[encoded data removed]",
      "text/plain": [
       "<Figure size 432x288 with 1 Axes>"
      ]
     },
     "metadata": {},
     "output_type": "display_data"
    }
   ],
   "source": [
    "import pylab as pl\n",
    "pl.plot(error)\n",
    "pl.xlabel('Epoch number')\n",
    "pl.ylabel('Error')"
   ]
  },
  {
   "cell_type": "code",
   "execution_count": 111,
   "metadata": {},
   "outputs": [],
   "source": [
    "# funcion extra que entrega un array con los datos mapiados:\n",
    "def funcion_e(tem,velo,tipo,phagua,phsuelo,humedads,Tsuelo,TSdesada):\n",
    "    stack_a=[]\n",
    "    calculado1=tem-(((velo*320)/841))\n",
    "    calculado2=((phagua*phsuelo*tipo)+1)/10\n",
    "    stack_a.append(tem)\n",
    "    stack_a.append(velo)\n",
    "    stack_a.append(calculado1)\n",
    "    stack_a.append(tipo)\n",
    "    stack_a.append(phagua)\n",
    "    stack_a.append(phsuelo)\n",
    "    stack_a.append(calculado2)\n",
    "    stack_a.append(humedads)\n",
    "    stack_a.append(Tsuelo)\n",
    "    stack_a.append(TSdesada)\n",
    "    return stack_a"
   ]
  },
  {
   "cell_type": "code",
   "execution_count": 112,
   "metadata": {},
   "outputs": [
    {
     "name": "stdout",
     "output_type": "stream",
     "text": [
      "regar\n"
     ]
    }
   ],
   "source": [
    "#probar la funcion \n",
    "dato= funcion_e(4,3,1,4,6,5,5,56)\n",
    "#probar la red neuronal\n",
    "regar=net.sim([dato])\n",
    "#entregar resultados\n",
    "if regar ==0:\n",
    "    print('no regar')\n",
    "else:\n",
    "    print('regar')"
   ]
  }
 ],
 "metadata": {
  "kernelspec": {
   "display_name": "Python 3",
   "language": "python",
   "name": "python3"
  },
  "language_info": {
   "codemirror_mode": {
    "name": "ipython",
    "version": 3
   },
   "file_extension": ".py",
   "mimetype": "text/x-python",
   "name": "python",
   "nbconvert_exporter": "python",
   "pygments_lexer": "ipython3",
   "version": "3.6.5"
  }
 },
 "nbformat": 4,
 "nbformat_minor": 2
}
